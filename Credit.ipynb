{
 "cells": [
  {
   "cell_type": "markdown",
   "id": "488f8831",
   "metadata": {},
   "source": [
    "# Credit Card Application"
   ]
  },
  {
   "cell_type": "markdown",
   "id": "710bd2be",
   "metadata": {},
   "source": [
    "To create a model that forecasts the propensity (probability) of customers responding to a personal loan campaign, we will utilize logistic regression. The outcomes will be categorized and the factors influencing the answer will be found using the model's probability. Building a model that identifies clients who are most likely to accept the loan offer in upcoming personal loan campaigns is the objective."
   ]
  },
  {
   "cell_type": "markdown",
   "id": "f208bcd6",
   "metadata": {},
   "source": [
    "### 1) Importing required libraries"
   ]
  },
  {
   "cell_type": "code",
   "execution_count": 1,
   "id": "89bcb1bc",
   "metadata": {},
   "outputs": [
    {
     "name": "stderr",
     "output_type": "stream",
     "text": [
      "/Users/gurkirankaur/Documents/anaconda3/lib/python3.8/site-packages/statsmodels/tsa/base/tsa_model.py:7: FutureWarning: pandas.Int64Index is deprecated and will be removed from pandas in a future version. Use pandas.Index with the appropriate dtype instead.\n",
      "  from pandas import (to_datetime, Int64Index, DatetimeIndex, Period,\n",
      "/Users/gurkirankaur/Documents/anaconda3/lib/python3.8/site-packages/statsmodels/tsa/base/tsa_model.py:7: FutureWarning: pandas.Float64Index is deprecated and will be removed from pandas in a future version. Use pandas.Index with the appropriate dtype instead.\n",
      "  from pandas import (to_datetime, Int64Index, DatetimeIndex, Period,\n"
     ]
    }
   ],
   "source": [
    "import pandas as pd\n",
    "import numpy as np\n",
    "import matplotlib.pyplot as plt\n",
    "import seaborn as sns\n",
    "import warnings\n",
    "import os\n",
    "import joblib\n",
    "import itertools\n",
    "import subprocess\n",
    "from time import time\n",
    "from scipy import stats\n",
    "import scipy.optimize as opt  \n",
    "from scipy.stats import chi2_contingency\n",
    "from sklearn.datasets import make_classification\n",
    "from sklearn.ensemble import RandomForestClassifier\n",
    "from sklearn.model_selection import train_test_split\n",
    "from sklearn.metrics import roc_curve\n"
   ]
  },
  {
   "cell_type": "markdown",
   "id": "ac3cee3e",
   "metadata": {},
   "source": [
    "### 2) Importing and Descriptive Stats\n",
    "\n",
    "To market their loan products to people who already have deposit accounts, BankABC wants to create a direct marketing channel. To cross-sell personal loans to its current clients, the bank ran a test campaign. An enticing personal loan offer and processing charge waiver were aimed at a random group of 20000 clients. The targeted clients' information has been provided, together with information on how they responded to the marketing offer."
   ]
  },
  {
   "cell_type": "code",
   "execution_count": 2,
   "id": "dab84044",
   "metadata": {},
   "outputs": [
    {
     "data": {
      "text/html": [
       "<div>\n",
       "<style scoped>\n",
       "    .dataframe tbody tr th:only-of-type {\n",
       "        vertical-align: middle;\n",
       "    }\n",
       "\n",
       "    .dataframe tbody tr th {\n",
       "        vertical-align: top;\n",
       "    }\n",
       "\n",
       "    .dataframe thead th {\n",
       "        text-align: right;\n",
       "    }\n",
       "</style>\n",
       "<table border=\"1\" class=\"dataframe\">\n",
       "  <thead>\n",
       "    <tr style=\"text-align: right;\">\n",
       "      <th></th>\n",
       "      <th>upgraded</th>\n",
       "      <th>purchases</th>\n",
       "      <th>extraCards</th>\n",
       "    </tr>\n",
       "  </thead>\n",
       "  <tbody>\n",
       "    <tr>\n",
       "      <th>0</th>\n",
       "      <td>0</td>\n",
       "      <td>32.1007</td>\n",
       "      <td>0</td>\n",
       "    </tr>\n",
       "    <tr>\n",
       "      <th>1</th>\n",
       "      <td>1</td>\n",
       "      <td>34.3706</td>\n",
       "      <td>1</td>\n",
       "    </tr>\n",
       "    <tr>\n",
       "      <th>2</th>\n",
       "      <td>0</td>\n",
       "      <td>4.8749</td>\n",
       "      <td>0</td>\n",
       "    </tr>\n",
       "    <tr>\n",
       "      <th>3</th>\n",
       "      <td>0</td>\n",
       "      <td>8.1263</td>\n",
       "      <td>0</td>\n",
       "    </tr>\n",
       "    <tr>\n",
       "      <th>4</th>\n",
       "      <td>0</td>\n",
       "      <td>12.9783</td>\n",
       "      <td>0</td>\n",
       "    </tr>\n",
       "  </tbody>\n",
       "</table>\n",
       "</div>"
      ],
      "text/plain": [
       "   upgraded  purchases  extraCards\n",
       "0         0    32.1007           0\n",
       "1         1    34.3706           1\n",
       "2         0     4.8749           0\n",
       "3         0     8.1263           0\n",
       "4         0    12.9783           0"
      ]
     },
     "execution_count": 2,
     "metadata": {},
     "output_type": "execute_result"
    }
   ],
   "source": [
    "# READ DATA\n",
    "data = pd.read_excel(\"CreditCard.xlsx\") \n",
    "data.shape  \n",
    "\n",
    "data.head()"
   ]
  },
  {
   "cell_type": "code",
   "execution_count": 3,
   "id": "9a11b826",
   "metadata": {},
   "outputs": [
    {
     "data": {
      "text/html": [
       "<table class=\"simpletable\">\n",
       "<caption>Generalized Linear Model Regression Results</caption>\n",
       "<tr>\n",
       "  <th>Dep. Variable:</th>       <td>upgraded</td>     <th>  No. Observations:  </th>  <td>    30</td> \n",
       "</tr>\n",
       "<tr>\n",
       "  <th>Model:</th>                  <td>GLM</td>       <th>  Df Residuals:      </th>  <td>    27</td> \n",
       "</tr>\n",
       "<tr>\n",
       "  <th>Model Family:</th>        <td>Binomial</td>     <th>  Df Model:          </th>  <td>     2</td> \n",
       "</tr>\n",
       "<tr>\n",
       "  <th>Link Function:</th>         <td>logit</td>      <th>  Scale:             </th> <td>  1.0000</td>\n",
       "</tr>\n",
       "<tr>\n",
       "  <th>Method:</th>                <td>IRLS</td>       <th>  Log-Likelihood:    </th> <td> -10.038</td>\n",
       "</tr>\n",
       "<tr>\n",
       "  <th>Date:</th>            <td>Fri, 24 Jun 2022</td> <th>  Deviance:          </th> <td>  20.077</td>\n",
       "</tr>\n",
       "<tr>\n",
       "  <th>Time:</th>                <td>06:55:52</td>     <th>  Pearson chi2:      </th>  <td>  18.5</td> \n",
       "</tr>\n",
       "<tr>\n",
       "  <th>No. Iterations:</th>          <td>6</td>        <th>                     </th>     <td> </td>   \n",
       "</tr>\n",
       "<tr>\n",
       "  <th>Covariance Type:</th>     <td>nonrobust</td>    <th>                     </th>     <td> </td>   \n",
       "</tr>\n",
       "</table>\n",
       "<table class=\"simpletable\">\n",
       "<tr>\n",
       "       <td></td>         <th>coef</th>     <th>std err</th>      <th>z</th>      <th>P>|z|</th>  <th>[0.025</th>    <th>0.975]</th>  \n",
       "</tr>\n",
       "<tr>\n",
       "  <th>Intercept</th>  <td>   -6.9398</td> <td>    2.947</td> <td>   -2.355</td> <td> 0.019</td> <td>  -12.716</td> <td>   -1.163</td>\n",
       "</tr>\n",
       "<tr>\n",
       "  <th>purchases</th>  <td>    0.1395</td> <td>    0.068</td> <td>    2.049</td> <td> 0.040</td> <td>    0.006</td> <td>    0.273</td>\n",
       "</tr>\n",
       "<tr>\n",
       "  <th>extraCards</th> <td>    2.7743</td> <td>    1.193</td> <td>    2.326</td> <td> 0.020</td> <td>    0.437</td> <td>    5.112</td>\n",
       "</tr>\n",
       "</table>"
      ],
      "text/plain": [
       "<class 'statsmodels.iolib.summary.Summary'>\n",
       "\"\"\"\n",
       "                 Generalized Linear Model Regression Results                  \n",
       "==============================================================================\n",
       "Dep. Variable:               upgraded   No. Observations:                   30\n",
       "Model:                            GLM   Df Residuals:                       27\n",
       "Model Family:                Binomial   Df Model:                            2\n",
       "Link Function:                  logit   Scale:                          1.0000\n",
       "Method:                          IRLS   Log-Likelihood:                -10.038\n",
       "Date:                Fri, 24 Jun 2022   Deviance:                       20.077\n",
       "Time:                        06:55:52   Pearson chi2:                     18.5\n",
       "No. Iterations:                     6                                         \n",
       "Covariance Type:            nonrobust                                         \n",
       "==============================================================================\n",
       "                 coef    std err          z      P>|z|      [0.025      0.975]\n",
       "------------------------------------------------------------------------------\n",
       "Intercept     -6.9398      2.947     -2.355      0.019     -12.716      -1.163\n",
       "purchases      0.1395      0.068      2.049      0.040       0.006       0.273\n",
       "extraCards     2.7743      1.193      2.326      0.020       0.437       5.112\n",
       "==============================================================================\n",
       "\"\"\""
      ]
     },
     "execution_count": 3,
     "metadata": {},
     "output_type": "execute_result"
    }
   ],
   "source": [
    "import statsmodels.formula.api as sm \n",
    "import statsmodels.api as sma \n",
    "# glm stands for Generalized Linear Model\n",
    "mylogit = sm.glm( formula = \"upgraded ~ purchases + extraCards\", \n",
    "    data = data, \n",
    "    family = sma.families.Binomial() ).fit() \n",
    "\n",
    "mylogit.summary()"
   ]
  },
  {
   "cell_type": "code",
   "execution_count": 4,
   "id": "38c3c75c",
   "metadata": {},
   "outputs": [],
   "source": [
    "#Train-Test Split\n",
    "credittrain, credittest = train_test_split(data, train_size=0.70, random_state=1)"
   ]
  },
  {
   "cell_type": "code",
   "execution_count": 6,
   "id": "723f6b3b",
   "metadata": {},
   "outputs": [
    {
     "name": "stdout",
     "output_type": "stream",
     "text": [
      "Optimization terminated successfully.\n",
      "         Current function value: 0.491848\n",
      "         Iterations 6\n"
     ]
    }
   ],
   "source": [
    "import statsmodels.api as sm\n",
    "\n",
    "# defining the dependent and independent variables\n",
    "Xtrain = credittrain[['purchases', 'extraCards']]\n",
    "ytrain = credittrain[['upgraded']]\n",
    "   \n",
    "# building the model and fitting the data\n",
    "log_reg = sm.Logit(ytrain, Xtrain).fit()"
   ]
  },
  {
   "cell_type": "code",
   "execution_count": 7,
   "id": "b98e3bdd",
   "metadata": {},
   "outputs": [
    {
     "name": "stdout",
     "output_type": "stream",
     "text": [
      "                           Logit Regression Results                           \n",
      "==============================================================================\n",
      "Dep. Variable:               upgraded   No. Observations:                   21\n",
      "Model:                          Logit   Df Residuals:                       19\n",
      "Method:                           MLE   Df Model:                            1\n",
      "Date:                Fri, 24 Jun 2022   Pseudo R-squ.:                  0.2273\n",
      "Time:                        06:56:26   Log-Likelihood:                -10.329\n",
      "converged:                       True   LL-Null:                       -13.367\n",
      "Covariance Type:            nonrobust   LLR p-value:                   0.01370\n",
      "==============================================================================\n",
      "                 coef    std err          z      P>|z|      [0.025      0.975]\n",
      "------------------------------------------------------------------------------\n",
      "purchases     -0.0556      0.027     -2.070      0.038      -0.108      -0.003\n",
      "extraCards     3.4853      1.440      2.420      0.016       0.662       6.308\n",
      "==============================================================================\n"
     ]
    }
   ],
   "source": [
    "print(log_reg.summary())"
   ]
  },
  {
   "cell_type": "code",
   "execution_count": 8,
   "id": "d395425c",
   "metadata": {},
   "outputs": [
    {
     "name": "stdout",
     "output_type": "stream",
     "text": [
      "Actual values [1, 1, 1, 1, 1, 0, 0, 0, 1]\n",
      "Predictions : [1, 1, 1, 1, 1, 1, 0, 0, 0]\n"
     ]
    }
   ],
   "source": [
    "Xtest = credittest[['purchases', 'extraCards']]\n",
    "ytest = credittest['upgraded']\n",
    "  \n",
    "# performing predictions on the test datdaset\n",
    "yhat = log_reg.predict(Xtest)\n",
    "prediction = list(map(round, yhat))\n",
    "  \n",
    "# comparing original and predicted values of y\n",
    "print('Actual values', list(ytest.values))\n",
    "print('Predictions :', prediction)"
   ]
  },
  {
   "cell_type": "code",
   "execution_count": 9,
   "id": "dcec6570",
   "metadata": {},
   "outputs": [
    {
     "name": "stdout",
     "output_type": "stream",
     "text": [
      "Confusion Matrix : \n",
      " [[2 1]\n",
      " [1 5]]\n",
      "Test accuracy =  0.7777777777777778\n"
     ]
    }
   ],
   "source": [
    "from sklearn.metrics import (confusion_matrix, \n",
    "                           accuracy_score)\n",
    "  \n",
    "# confusion matrix\n",
    "cm = confusion_matrix(ytest, prediction) \n",
    "print (\"Confusion Matrix : \\n\", cm) \n",
    "  \n",
    "# accuracy score of the model\n",
    "print('Test accuracy = ', accuracy_score(ytest, prediction))\n",
    "#accuracy is greater than 0.7 (0.778 hence it is a accurate model)"
   ]
  },
  {
   "cell_type": "code",
   "execution_count": null,
   "id": "abeda1c6",
   "metadata": {},
   "outputs": [],
   "source": [
    "#fores\n",
    "\n",
    "\n",
    "\n",
    "# define dataset\n",
    "X, y = (n_samples=1000, n_features=20, n_informative=15, n_redundant=5, random_state=3)\n",
    "# summarize the dataset\n",
    "print(X.shape, y.shape)"
   ]
  }
 ],
 "metadata": {
  "kernelspec": {
   "display_name": "Python 3",
   "language": "python",
   "name": "python3"
  },
  "language_info": {
   "codemirror_mode": {
    "name": "ipython",
    "version": 3
   },
   "file_extension": ".py",
   "mimetype": "text/x-python",
   "name": "python",
   "nbconvert_exporter": "python",
   "pygments_lexer": "ipython3",
   "version": "3.8.8"
  }
 },
 "nbformat": 4,
 "nbformat_minor": 5
}
